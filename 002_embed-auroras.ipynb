{
 "cells": [
  {
   "cell_type": "code",
   "execution_count": 31,
   "id": "f20f25ae-528a-4b36-b49c-a8e6537942e1",
   "metadata": {
    "tags": []
   },
   "outputs": [],
   "source": [
    "from clip_retrieval import clip_inference\n",
    "from pathlib import Path\n",
    "from PIL import Image, ImageFile\n",
    "ImageFile.LOAD_TRUNCATED_IMAGES = False\n",
    "import os\n",
    "\n",
    "imgs_path = Path(\"data/aurora_imgs\")"
   ]
  },
  {
   "cell_type": "code",
   "execution_count": 32,
   "id": "4cd825c1-338d-4722-91f2-99e9df18278e",
   "metadata": {},
   "outputs": [],
   "source": [
    "imgs_list = list(imgs_path.glob(\"**/*.jpg\")) + list(imgs_path.glob(\"**/*.png\")) + list(imgs_path.glob(\"**/*.jpeg\"))"
   ]
  },
  {
   "cell_type": "code",
   "execution_count": 33,
   "id": "93876c64-2860-46d3-9d9b-b30df8867304",
   "metadata": {},
   "outputs": [
    {
     "data": {
      "text/plain": [
       "1404"
      ]
     },
     "execution_count": 33,
     "metadata": {},
     "output_type": "execute_result"
    }
   ],
   "source": [
    "len(imgs_list)"
   ]
  },
  {
   "cell_type": "code",
   "execution_count": 34,
   "id": "740664ac-450d-4565-a519-01d02044b2ae",
   "metadata": {
    "tags": []
   },
   "outputs": [],
   "source": [
    "for j in imgs_list:\n",
    "    try:\n",
    "        i = Image.open(j)\n",
    "    except:\n",
    "        print(j)\n",
    "        os.unlink(j)"
   ]
  },
  {
   "cell_type": "code",
   "execution_count": 35,
   "id": "2a1ffcdb-235a-4dc5-a68c-0362c869d960",
   "metadata": {},
   "outputs": [
    {
     "data": {
      "text/plain": [
       "0"
      ]
     },
     "execution_count": 35,
     "metadata": {},
     "output_type": "execute_result"
    }
   ],
   "source": [
    "imgs_list_cleaner = list(imgs_path.glob(\"**/*.jpg\")) + list(imgs_path.glob(\"**/*.png\")) + list(imgs_path.glob(\"**/*.jpeg\"))\n",
    "len(imgs_list) - len(imgs_list_cleaner)"
   ]
  },
  {
   "cell_type": "code",
   "execution_count": 36,
   "id": "376e8e1a-040d-4be8-8c65-90e8734dca00",
   "metadata": {},
   "outputs": [
    {
     "name": "stdout",
     "output_type": "stream",
     "text": [
      "The number of samples has been estimated to be 1404\n",
      " sample_per_sec 18 ; sample_count 1404 "
     ]
    }
   ],
   "source": [
    "embeds_path = Path(\"data/aurora_embeds\")\n",
    "clip_inference(imgs_path.as_posix(), embeds_path.as_posix(), )"
   ]
  },
  {
   "cell_type": "code",
   "execution_count": null,
   "id": "6c02e7cb-7943-4cf1-b7ac-3630b59db013",
   "metadata": {},
   "outputs": [],
   "source": []
  }
 ],
 "metadata": {
  "kernelspec": {
   "display_name": "Python 3 (ipykernel)",
   "language": "python",
   "name": "python3"
  },
  "language_info": {
   "codemirror_mode": {
    "name": "ipython",
    "version": 3
   },
   "file_extension": ".py",
   "mimetype": "text/x-python",
   "name": "python",
   "nbconvert_exporter": "python",
   "pygments_lexer": "ipython3",
   "version": "3.10.6"
  }
 },
 "nbformat": 4,
 "nbformat_minor": 5
}
