{
 "cells": [
  {
   "cell_type": "code",
   "execution_count": 1,
   "id": "ea6d6b28-8ec4-4dbf-b8c6-9083d8684110",
   "metadata": {},
   "outputs": [],
   "source": [
    "import json\n",
    "import numpy as np"
   ]
  },
  {
   "cell_type": "code",
   "execution_count": 2,
   "id": "8ccebf40-b4f9-4797-8d77-b3555662f380",
   "metadata": {},
   "outputs": [],
   "source": [
    "with open(\"/home/paperspace/Downloads/user_hotspots.json\") as j:\n",
    "    to_delete = json.load(j)"
   ]
  },
  {
   "cell_type": "code",
   "execution_count": 3,
   "id": "073a34a9-ebab-4eda-8f64-6de21943e3d4",
   "metadata": {},
   "outputs": [],
   "source": [
    "img_lists = [i[\"images\"] for i in to_delete]\n",
    "imgs = []\n",
    "for i in img_lists:\n",
    "    imgs += i"
   ]
  },
  {
   "cell_type": "code",
   "execution_count": 4,
   "id": "fbceb2fa-1797-4c45-928c-327db7b91b15",
   "metadata": {},
   "outputs": [
    {
     "data": {
      "text/plain": [
       "67"
      ]
     },
     "execution_count": 4,
     "metadata": {},
     "output_type": "execute_result"
    }
   ],
   "source": [
    "len(imgs)"
   ]
  },
  {
   "cell_type": "code",
   "execution_count": 5,
   "id": "543bd251-7e57-4f10-8de3-2f7f2831c5a4",
   "metadata": {},
   "outputs": [],
   "source": [
    "full_list = \"pixplot-aur-128thumbs/data/imagelists/imagelist-afefdfe0-76b7-11ed-a902-712403955dc8.json\"\n",
    "\n",
    "with open(full_list) as l:\n",
    "    full_list = json.load(l)"
   ]
  },
  {
   "cell_type": "code",
   "execution_count": 6,
   "id": "984927b4-7853-4936-bffb-5945bf2cefdf",
   "metadata": {},
   "outputs": [],
   "source": [
    "img_arr = full_list[\"images\"]"
   ]
  },
  {
   "cell_type": "code",
   "execution_count": 7,
   "id": "19f356b0-cd3b-4195-8ea6-938f4faa4d42",
   "metadata": {},
   "outputs": [],
   "source": [
    "paths_to_delete = [img_arr[j] for j in imgs]"
   ]
  },
  {
   "cell_type": "code",
   "execution_count": 8,
   "id": "7cd48dc5-d905-4bac-af25-6af4a6b3ab45",
   "metadata": {},
   "outputs": [],
   "source": [
    "from PIL import Image\n",
    "from pathlib import Path\n",
    "\n",
    "images_base = Path(\"pixplot-aur-128thumbs/data/originals/\")\n",
    "# Image.open(images_base/paths_to_delete[45])"
   ]
  },
  {
   "cell_type": "code",
   "execution_count": 9,
   "id": "4224d612-37b8-4f55-a6f9-be310b58ce1a",
   "metadata": {},
   "outputs": [],
   "source": [
    "imgs_to_keep = [i for i in img_arr if not i in paths_to_delete]"
   ]
  },
  {
   "cell_type": "code",
   "execution_count": 10,
   "id": "551e2b75-9b60-4d0d-8fcd-af373bc83c4f",
   "metadata": {},
   "outputs": [
    {
     "data": {
      "text/plain": [
       "1272"
      ]
     },
     "execution_count": 10,
     "metadata": {},
     "output_type": "execute_result"
    }
   ],
   "source": [
    "len(imgs_to_keep)"
   ]
  },
  {
   "cell_type": "code",
   "execution_count": 14,
   "id": "2f15bf8b-3b5d-4c3a-ab16-3279e81a5f93",
   "metadata": {},
   "outputs": [],
   "source": [
    "out_dir = Path(\"clean_aurs_try2_01\")\n",
    "out_dir.mkdir()"
   ]
  },
  {
   "cell_type": "code",
   "execution_count": 15,
   "id": "1c7b11f2-1b5c-41d5-ab9c-fe46cf88e32b",
   "metadata": {},
   "outputs": [],
   "source": [
    "import shutil"
   ]
  },
  {
   "cell_type": "code",
   "execution_count": 16,
   "id": "d4f48cec-5363-4d98-97d5-51bbdd7a1e73",
   "metadata": {},
   "outputs": [],
   "source": [
    "for i in imgs_to_keep:\n",
    "    shutil.copy(images_base/i, out_dir/i)"
   ]
  },
  {
   "cell_type": "code",
   "execution_count": 17,
   "id": "e5880f88-d452-49f0-8a18-ca66f9154521",
   "metadata": {},
   "outputs": [],
   "source": [
    "from clip_retrieval import clip_inference"
   ]
  },
  {
   "cell_type": "code",
   "execution_count": 18,
   "id": "a49eed81-8ea9-4cc6-b44e-0a3b4708489e",
   "metadata": {},
   "outputs": [],
   "source": [
    "embeds_dir = out_dir/\"embeds\"\n",
    "embeds_dir.mkdir()"
   ]
  },
  {
   "cell_type": "code",
   "execution_count": 19,
   "id": "1a235fa4-0a45-451d-972d-1fb2d168b68e",
   "metadata": {},
   "outputs": [
    {
     "name": "stdout",
     "output_type": "stream",
     "text": [
      "The number of samples has been estimated to be 1267\n",
      "Starting the worker\n",
      "dataset is 18\n",
      "Starting work on task 0\n",
      "warming up with batch size 256 on cuda\n"
     ]
    },
    {
     "name": "stderr",
     "output_type": "stream",
     "text": [
      "/home/paperspace/mambaforge/lib/python3.10/site-packages/clip_retrieval/load_clip.py:28: UserWarning: operator() profile_node %520 : int[] = prim::profile_ivalue(%518)\n",
      " does not have profile information (Triggered internally at /opt/conda/conda-bld/pytorch_1666642969563/work/torch/csrc/jit/codegen/cuda/graph_fuser.cpp:105.)\n",
      "  return self.inner_model.encode_image(image)\n"
     ]
    },
    {
     "name": "stdout",
     "output_type": "stream",
     "text": [
      "done warming up in 596.5918374061584s\n",
      " sample_per_sec 62 ; sample_count 1267 "
     ]
    }
   ],
   "source": [
    "clip_inference(out_dir.as_posix(), embeds_dir.as_posix(), clip_model=\"open_clip:ViT-H-14\")"
   ]
  },
  {
   "cell_type": "code",
   "execution_count": null,
   "id": "ef117303-daad-41e0-a304-0482efb7a8d0",
   "metadata": {},
   "outputs": [],
   "source": []
  }
 ],
 "metadata": {
  "kernelspec": {
   "display_name": "Python 3 (ipykernel)",
   "language": "python",
   "name": "python3"
  },
  "language_info": {
   "codemirror_mode": {
    "name": "ipython",
    "version": 3
   },
   "file_extension": ".py",
   "mimetype": "text/x-python",
   "name": "python",
   "nbconvert_exporter": "python",
   "pygments_lexer": "ipython3",
   "version": "3.10.8"
  }
 },
 "nbformat": 4,
 "nbformat_minor": 5
}
