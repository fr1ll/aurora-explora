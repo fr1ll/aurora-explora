{
 "cells": [
  {
   "cell_type": "code",
   "execution_count": 41,
   "id": "f8a19b5b-ecd6-4245-b90d-ae476219d5bc",
   "metadata": {},
   "outputs": [],
   "source": [
    "from PIL import Image\n",
    "import numpy as np\n",
    "from pathlib import Path\n",
    "from einops import reduce\n",
    "from glob import glob"
   ]
  },
  {
   "cell_type": "code",
   "execution_count": 4,
   "id": "881c76c3-ea0b-4007-882d-17221651eeb6",
   "metadata": {},
   "outputs": [],
   "source": [
    "test_img = Path(\"deforum-stable-diffusion/output/2022-12/test04/20221212053517_00033.png\")\n",
    "im = Image.open(test_img)"
   ]
  },
  {
   "cell_type": "code",
   "execution_count": 6,
   "id": "283cce4c-7a3e-4f36-b450-4c9eb37327ee",
   "metadata": {},
   "outputs": [],
   "source": [
    "im.thumbnail((1024//8,768//8))"
   ]
  },
  {
   "cell_type": "code",
   "execution_count": 14,
   "id": "07a77854-e585-4480-9097-c467b22bf893",
   "metadata": {},
   "outputs": [],
   "source": [
    "ima = np.asarray(im).astype(np.float32)"
   ]
  },
  {
   "cell_type": "code",
   "execution_count": 19,
   "id": "6136b118-b36e-46e6-9680-93b62f0587c8",
   "metadata": {},
   "outputs": [],
   "source": [
    "ima_mean = reduce(ima, \"x y c -> x y\", \"mean\")\n",
    "ima_max = reduce(ima, \"x y c -> x y\", \"max\")"
   ]
  },
  {
   "cell_type": "code",
   "execution_count": 32,
   "id": "a3a8e4a3-cc69-4d40-a494-c87b77ac6f0c",
   "metadata": {
    "collapsed": true,
    "jupyter": {
     "outputs_hidden": true
    },
    "tags": []
   },
   "outputs": [
    {
     "data": {
      "image/png": "[encoded data removed]",
      "text/plain": [
       "<PIL.Image.Image image mode=L size=128x88>"
      ]
     },
     "execution_count": 32,
     "metadata": {},
     "output_type": "execute_result"
    }
   ],
   "source": [
    "Image.fromarray(np.uint8(0.85*(ima_max + ima_max/ima_mean)))"
   ]
  },
  {
   "cell_type": "code",
   "execution_count": 40,
   "id": "431f1b72-480f-48f7-b5ee-89abc51201f7",
   "metadata": {},
   "outputs": [
    {
     "data": {
      "image/png": "[encoded data removed]",
      "text/plain": [
       "<PIL.Image.Image image mode=L size=128x88>"
      ]
     },
     "execution_count": 40,
     "metadata": {},
     "output_type": "execute_result"
    }
   ],
   "source": [
    "Image.fromarray(np.uint8(20*np.log(0.95*ima_max)))"
   ]
  },
  {
   "cell_type": "code",
   "execution_count": 43,
   "id": "10ee5b85-b704-4aa1-82d5-4e9b5a09c681",
   "metadata": {},
   "outputs": [],
   "source": [
    "ims = glob(\"deforum-stable-diffusion/output/2022-12/test04/20221212053517_000*.png\")"
   ]
  },
  {
   "cell_type": "code",
   "execution_count": 80,
   "id": "4350fefb-014d-400e-8a1d-70966f184aec",
   "metadata": {},
   "outputs": [],
   "source": [
    "centers = []\n",
    "\n",
    "for j in ims:\n",
    "    j = Image.open(j)\n",
    "    j = reduce(np.asarray(j).astype(np.float32), \"x y c -> x y\", \"max\")\n",
    "    centers += [ndi.center_of_mass(j)]\n",
    "\n",
    "center = reduce(np.array(centers), \"n p -> p\", \"mean\")\n",
    "\n",
    "pd.Series({\"from_idx\": \"null\", \"to_idx\": \"null\",\n",
    "                   \"cx\": center[0], \"cy\": center[1]}\n",
    "                     ).to_json(\"test.json\")"
   ]
  },
  {
   "cell_type": "code",
   "execution_count": 89,
   "id": "956a1001-a650-4e24-9ad7-a51f464134f8",
   "metadata": {},
   "outputs": [],
   "source": [
    "import pandas as pd\n"
   ]
  },
  {
   "cell_type": "code",
   "execution_count": 87,
   "id": "16e00d20-9cf8-49e0-bcbb-d9000d3ae0af",
   "metadata": {},
   "outputs": [
    {
     "data": {
      "text/plain": [
       "from_idx          null\n",
       "to_idx            null\n",
       "cx          305.508679\n",
       "cy          471.984583\n",
       "dtype: object"
      ]
     },
     "execution_count": 87,
     "metadata": {},
     "output_type": "execute_result"
    }
   ],
   "source": [
    "img_basic"
   ]
  },
  {
   "cell_type": "code",
   "execution_count": 79,
   "id": "f2e43379-9756-4d91-ae7b-3f0d23ccc947",
   "metadata": {},
   "outputs": [
    {
     "data": {
      "text/plain": [
       "array([38.48517122, 58.33758793])"
      ]
     },
     "execution_count": 79,
     "metadata": {},
     "output_type": "execute_result"
    }
   ],
   "source": [
    "reduce(np.array(centers_mean), \"n p -> p\", \"mean\")"
   ]
  },
  {
   "cell_type": "code",
   "execution_count": 66,
   "id": "136c929f-b26e-4777-bf7e-753144951149",
   "metadata": {},
   "outputs": [],
   "source": [
    "import scipy.ndimage as ndi"
   ]
  },
  {
   "cell_type": "code",
   "execution_count": 67,
   "id": "7276be4a-0172-441f-a017-ccc95672c9bc",
   "metadata": {},
   "outputs": [],
   "source": [
    "img = reduce(i_t, \"x y c -> x y\", \"max\")"
   ]
  },
  {
   "cell_type": "code",
   "execution_count": 68,
   "id": "c8e7390d-9664-41ea-94e7-5b0adaaee79b",
   "metadata": {},
   "outputs": [],
   "source": [
    "cy, cx = ndi.center_of_mass(img)"
   ]
  },
  {
   "cell_type": "code",
   "execution_count": 69,
   "id": "ac912f98-c401-497b-ba40-32f0ca56981f",
   "metadata": {},
   "outputs": [
    {
     "data": {
      "text/plain": [
       "(39.763033513891216, 58.55589762304351)"
      ]
     },
     "execution_count": 69,
     "metadata": {},
     "output_type": "execute_result"
    }
   ],
   "source": [
    "cy, cx"
   ]
  },
  {
   "cell_type": "code",
   "execution_count": 65,
   "id": "3be6bbea-76bb-4bf6-a97f-4f1fed57f593",
   "metadata": {},
   "outputs": [
    {
     "data": {
      "text/plain": [
       "(array([31, 32, 33, 34, 34, 35, 35, 35, 36, 36, 37, 38, 38, 38, 38, 39, 39,\n",
       "        39, 39, 40, 40, 40, 40, 41, 42, 43, 44, 44, 44, 45, 45, 45, 45, 46,\n",
       "        46, 46, 46, 47, 47, 47, 47, 48, 48, 49, 49, 50, 53, 54, 63, 64, 65]),\n",
       " array([32, 32, 56, 31, 56, 31, 56, 57, 56, 57, 57, 57, 58, 71, 72, 57, 58,\n",
       "        71, 72, 57, 58, 71, 72, 58, 58, 58, 28, 29, 58, 28, 29, 58, 59, 29,\n",
       "        30, 58, 59, 30, 31, 58, 59, 31, 32, 31, 32, 32, 36, 36, 59, 60, 60]),\n",
       " array([1, 1, 1, 1, 1, 1, 1, 1, 1, 1, 1, 1, 1, 1, 1, 1, 1, 1, 1, 1, 1, 1,\n",
       "        1, 1, 1, 1, 1, 1, 1, 1, 1, 1, 1, 1, 1, 1, 1, 1, 1, 1, 1, 1, 1, 1,\n",
       "        1, 1, 1, 1, 1, 1, 1]))"
      ]
     },
     "execution_count": 65,
     "metadata": {},
     "output_type": "execute_result"
    }
   ],
   "source": [
    "np.where(i_t == np.amax(i_t))"
   ]
  },
  {
   "cell_type": "code",
   "execution_count": 56,
   "id": "fb2498cb-58f8-4eb2-9346-655c14753b7e",
   "metadata": {},
   "outputs": [],
   "source": [
    "ims_arr_uni = np.array(ims_arr)"
   ]
  },
  {
   "cell_type": "code",
   "execution_count": 57,
   "id": "94ccf76c-55b4-4b44-87b0-87a22b1df24d",
   "metadata": {},
   "outputs": [],
   "source": [
    "ims_arr_uni_max = reduce(ims_arr_uni, \"n x y c -> x y\", \"mean\")"
   ]
  },
  {
   "cell_type": "code",
   "execution_count": 58,
   "id": "016d2af9-cf68-4169-ae9d-b7aba54a2ba4",
   "metadata": {},
   "outputs": [
    {
     "data": {
      "image/png": "[encoded data removed]",
      "text/plain": [
       "<PIL.Image.Image image mode=L size=128x88>"
      ]
     },
     "execution_count": 58,
     "metadata": {},
     "output_type": "execute_result"
    }
   ],
   "source": [
    "Image.fromarray(np.uint8(ims_arr_uni_max))"
   ]
  },
  {
   "cell_type": "code",
   "execution_count": null,
   "id": "49593dee-906c-4ceb-aa48-af5855f63feb",
   "metadata": {},
   "outputs": [],
   "source": []
  }
 ],
 "metadata": {
  "kernelspec": {
   "display_name": "Python 3 (ipykernel)",
   "language": "python",
   "name": "python3"
  },
  "language_info": {
   "codemirror_mode": {
    "name": "ipython",
    "version": 3
   },
   "file_extension": ".py",
   "mimetype": "text/x-python",
   "name": "python",
   "nbconvert_exporter": "python",
   "pygments_lexer": "ipython3",
   "version": "3.10.8"
  }
 },
 "nbformat": 4,
 "nbformat_minor": 5
}
